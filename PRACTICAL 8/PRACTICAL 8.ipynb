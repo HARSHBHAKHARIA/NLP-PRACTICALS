{
 "cells": [
  {
   "cell_type": "code",
   "execution_count": 15,
   "metadata": {},
   "outputs": [
    {
     "name": "stderr",
     "output_type": "stream",
     "text": [
      "[nltk_data] Downloading package averaged_perceptron_tagger to\n",
      "[nltk_data]     C:\\Users\\hbhak\\AppData\\Roaming\\nltk_data...\n",
      "[nltk_data]   Unzipping taggers\\averaged_perceptron_tagger.zip.\n",
      "[nltk_data] Downloading package punkt to\n",
      "[nltk_data]     C:\\Users\\hbhak\\AppData\\Roaming\\nltk_data...\n",
      "[nltk_data]   Package punkt is already up-to-date!\n"
     ]
    }
   ],
   "source": [
    "import nltk\n",
    "nltk.download('averaged_perceptron_tagger')\n",
    "nltk.download('punkt')\n",
    "from nltk.corpus import stopwords\n",
    "from nltk.tokenize import word_tokenize, sent_tokenize\n",
    "stop_words = set(stopwords.words('english'))"
   ]
  },
  {
   "cell_type": "code",
   "execution_count": 16,
   "metadata": {},
   "outputs": [],
   "source": [
    "txt = \"There was once a hare who was friends with a tortoise. \" \\\n",
    "    \"One day, he challenged the tortoise to a race. \" \\\n",
    "    \"Seeing how slow the tortoise was going, the hare thought he’ll win this easily.\" \\\n",
    "    \"So he took a nap while the tortoise kept on going. \" \\\n",
    "    \"Much to his chagrin the tortoise won the race while he was busy sleeping.\" \\\n",
    "    \"The hare teaches that overconfidence can sometimes ruin you. \" \\\n",
    "    \"While the tortoise teaches us about the power of perseverance. \"\\\n",
    " \n",
    "\n",
    "# sent_tokenize is one of instances of\n",
    "# PunktSentenceTokenizer from the nltk.tokenize.punkt module\n",
    "\n",
    "tokenized = sent_tokenize(txt)"
   ]
  },
  {
   "cell_type": "code",
   "execution_count": 17,
   "metadata": {},
   "outputs": [
    {
     "name": "stdout",
     "output_type": "stream",
     "text": [
      "[('There', 'EX'), ('hare', 'JJ'), ('friends', 'NNS'), ('tortoise', 'NN'), ('.', '.')]\n",
      "[('One', 'CD'), ('day', 'NN'), (',', ','), ('challenged', 'VBD'), ('tortoise', 'NN'), ('race', 'NN'), ('.', '.')]\n",
      "[('Seeing', 'VBG'), ('slow', 'JJ'), ('tortoise', 'NN'), ('going', 'VBG'), (',', ','), ('hare', 'VB'), ('thought', 'VBN'), ('’', 'NNP'), ('win', 'VB'), ('easily.So', 'JJ'), ('took', 'VBD'), ('nap', 'JJ'), ('tortoise', 'NN'), ('kept', 'VBD'), ('going', 'VBG'), ('.', '.')]\n",
      "[('Much', 'JJ'), ('chagrin', 'NN'), ('tortoise', 'NN'), ('race', 'NN'), ('busy', 'JJ'), ('sleeping.The', 'NN'), ('hare', 'NN'), ('teaches', 'NNS'), ('overconfidence', 'NN'), ('sometimes', 'RB'), ('ruin', 'VB'), ('.', '.')]\n",
      "[('While', 'IN'), ('tortoise', 'NN'), ('teaches', 'NNS'), ('us', 'PRP'), ('power', 'NN'), ('perseverance', 'NN'), ('.', '.')]\n"
     ]
    }
   ],
   "source": [
    "\n",
    "for i in tokenized:\n",
    "\n",
    "    # Word tokenizers is used to find the words\n",
    "    # and punctuation in a string\n",
    "    wordsList = nltk.word_tokenize(i)\n",
    "\n",
    "    # removing stop words from wordList\n",
    "    wordsList = [w for w in wordsList if not w in stop_words]\n",
    "\n",
    "    # Using a Tagger. Which is part-of-speech\n",
    "    # tagger or POS-tagger.\n",
    "    tagged = nltk.pos_tag(wordsList)\n",
    "\n",
    "    print(tagged)"
   ]
  },
  {
   "cell_type": "code",
   "execution_count": null,
   "metadata": {},
   "outputs": [],
   "source": []
  }
 ],
 "metadata": {
  "kernelspec": {
   "display_name": "Python 3",
   "language": "python",
   "name": "python3"
  },
  "language_info": {
   "codemirror_mode": {
    "name": "ipython",
    "version": 3
   },
   "file_extension": ".py",
   "mimetype": "text/x-python",
   "name": "python",
   "nbconvert_exporter": "python",
   "pygments_lexer": "ipython3",
   "version": "3.8.3"
  }
 },
 "nbformat": 4,
 "nbformat_minor": 4
}
